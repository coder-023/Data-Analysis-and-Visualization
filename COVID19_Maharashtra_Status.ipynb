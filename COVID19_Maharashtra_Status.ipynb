{
 "cells": [
  {
   "cell_type": "markdown",
   "metadata": {},
   "source": [
    "# <font color=red>COVID-19 STATUS IN MAHARASHTRA</font>"
   ]
  },
  {
   "cell_type": "markdown",
   "metadata": {},
   "source": [
    "# <font color=#F39C12 >MAHARASHTRA STATE </font>"
   ]
  },
  {
   "cell_type": "markdown",
   "metadata": {},
   "source": [
    "##### Concept of folium is used to show Location of State on Map by using Cordinates."
   ]
  },
  {
   "cell_type": "code",
   "execution_count": 1,
   "metadata": {},
   "outputs": [
    {
     "data": {
      "text/html": [
       "<div style=\"width:100%;\"><div style=\"position:relative;width:100%;height:0;padding-bottom:60%;\"><span style=\"color:#565656\">Make this Notebook Trusted to load map: File -> Trust Notebook</span><iframe src=\"about:blank\" style=\"position:absolute;width:100%;height:100%;left:0;top:0;border:none !important;\" data-html=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 onload=\"this.contentDocument.open();this.contentDocument.write(atob(this.getAttribute('data-html')));this.contentDocument.close();\" allowfullscreen webkitallowfullscreen mozallowfullscreen></iframe></div></div>"
      ],
      "text/plain": [
       "<folium.folium.Map at 0x2454aa36b48>"
      ]
     },
     "execution_count": 1,
     "metadata": {},
     "output_type": "execute_result"
    }
   ],
   "source": [
    "import folium\n",
    "map=folium.Map()\n",
    "loc=[19.7515,75.7139]\n",
    "marker=folium.Marker(location=loc,popup='Maharashtra')\n",
    "marker.add_to(map)\n",
    "map"
   ]
  },
  {
   "cell_type": "markdown",
   "metadata": {},
   "source": [
    "## <font color=FUCHSIA>Coronavirus </font>"
   ]
  },
  {
   "cell_type": "markdown",
   "metadata": {},
   "source": [
    "### Coronavirus disease (COVID-19) is an infectious disease caused by a newly discovered coronavirus."
   ]
  },
  {
   "cell_type": "markdown",
   "metadata": {},
   "source": [
    "### <img src=\"coronavir.jpg\" alt=\"CORONAVIRUS\" height=\"700\" width=\"700\">"
   ]
  },
  {
   "cell_type": "markdown",
   "metadata": {},
   "source": [
    "# <font color=orange>MAHARASHTRA STATE </font>"
   ]
  },
  {
   "cell_type": "markdown",
   "metadata": {},
   "source": [
    "##### Here from csv file done analysis of data by Panda library in Python"
   ]
  },
  {
   "cell_type": "code",
   "execution_count": 2,
   "metadata": {},
   "outputs": [],
   "source": [
    "import pandas as pd"
   ]
  },
  {
   "cell_type": "code",
   "execution_count": 3,
   "metadata": {},
   "outputs": [],
   "source": [
    "p_data=pd.read_csv(\"population_india_census2011.csv\",index_col='State_Union_Territory')"
   ]
  },
  {
   "cell_type": "code",
   "execution_count": 4,
   "metadata": {},
   "outputs": [
    {
     "name": "stdout",
     "output_type": "stream",
     "text": [
      "Population Of MAHARASHTRA\n",
      "Sno                                           2\n",
      "Population                            112374333\n",
      "Rural_population                       61556074\n",
      "Urban_population                       50818259\n",
      "Area                307,713 km2 (118,809 sq mi)\n",
      "Density                     365/km2 (950/sq mi)\n",
      "Gender_Ratio                                929\n",
      "Name: Maharashtra, dtype: object\n",
      "61556074\n"
     ]
    }
   ],
   "source": [
    "print(f\"Population Of MAHARASHTRA\\n{p_data.loc['Maharashtra']}\")  \n",
    "print(p_data.Rural_population.Maharashtra)"
   ]
  },
  {
   "cell_type": "markdown",
   "metadata": {},
   "source": [
    "## <font color=#A04000 F>MAHARASHTRA STATE POPULATION DISTRIUBATION </font>"
   ]
  },
  {
   "cell_type": "markdown",
   "metadata": {},
   "source": [
    "##### Here by using matplotlib library is used to visualize the data in diagrametical form"
   ]
  },
  {
   "cell_type": "code",
   "execution_count": 5,
   "metadata": {},
   "outputs": [
    {
     "name": "stdout",
     "output_type": "stream",
     "text": [
      "<class 'numpy.int64'>\n"
     ]
    },
    {
     "data": {
      "image/png": "[encoded data removed]",
      "text/plain": [
       "<Figure size 432x288 with 1 Axes>"
      ]
     },
     "metadata": {},
     "output_type": "display_data"
    }
   ],
   "source": [
    "from matplotlib import pyplot as plt\n",
    "labels='Rural','Urban'\n",
    "rural=p_data.Rural_population.Maharashtra\n",
    "print(type(rural))\n",
    "urban=p_data.Urban_population.Maharashtra\n",
    "pop=[rural,urban]\n",
    "colors = ['gold', 'red']\n",
    "explode = (0.1, 0,)  # explode 1st slice\n",
    "\n",
    "# Plot\n",
    "plt.pie(pop, explode=explode,labels=labels, colors=colors,autopct='%1.1f%%', shadow=True, startangle=140)\n",
    "\n",
    "plt.axis('equal')\n",
    "plt.show()"
   ]
  },
  {
   "cell_type": "markdown",
   "metadata": {},
   "source": [
    "# <font color=#5B2C6F >TESTING DETAILS IN MAHARASHTRA </font>"
   ]
  },
  {
   "cell_type": "markdown",
   "metadata": {},
   "source": [
    "##### Importing data from \"csv file\" which will actualy required and display that in Table form and also Graphical Representation"
   ]
  },
  {
   "cell_type": "code",
   "execution_count": 6,
   "metadata": {},
   "outputs": [
    {
     "name": "stdout",
     "output_type": "stream",
     "text": [
      "FIRST FIVE DAYS TEST REPORTS:\n",
      "                   Date  TotalSamples  Negative  Positive\n",
      "State                                                    \n",
      "Maharashtra  05/04/2020         16008   14837.0       NaN\n",
      "Maharashtra  06/04/2020         17563   15808.0     868.0\n",
      "Maharashtra  07/04/2020         20877   19290.0    1018.0\n",
      "Maharashtra  09/04/2020         20877   19290.0     868.0\n",
      "Maharashtra  10/04/2020         30000   28865.0    1135.0\n",
      "\n",
      "-----------------------------------------------------------\n",
      "\n",
      "LAST FIVE DAYS TEST REPORTS:\n",
      "                   Date  TotalSamples  Negative  Positive\n",
      "State                                                    \n",
      "Maharashtra  05/06/2020        524002  440445.0   77793.0\n",
      "Maharashtra  06/06/2020        538009  451764.0   80229.0\n",
      "Maharashtra  07/06/2020        553063  463723.0   82968.0\n",
      "Maharashtra  08/06/2020        565290  473588.0   85975.0\n",
      "Maharashtra  09/06/2020        579294  485144.0   88528.0\n"
     ]
    }
   ],
   "source": [
    "test_data=pd.read_csv('StatewiseTestingDetails.csv',index_col='State',parse_dates=True)\n",
    "print(f\"FIRST FIVE DAYS TEST REPORTS:\")\n",
    "print(test_data.loc['Maharashtra'].head(5))\n",
    "print(\"\\n-----------------------------------------------------------\")\n",
    "print(f\"\\nLAST FIVE DAYS TEST REPORTS:\")\n",
    "print(test_data.loc['Maharashtra'].tail(5))"
   ]
  },
  {
   "cell_type": "code",
   "execution_count": 7,
   "metadata": {},
   "outputs": [],
   "source": [
    "test_data=test_data.loc['Maharashtra']\n",
    "date=test_data.Date\n",
    "positive=test_data. Positive\n",
    "negative=test_data. Negative\n",
    "dates=date.tolist()\n",
    "positive=positive.tolist()\n",
    "negative=negative.tolist()"
   ]
  },
  {
   "cell_type": "code",
   "execution_count": 8,
   "metadata": {},
   "outputs": [
    {
     "data": {
      "image/png": "[encoded data removed]",
      "text/plain": [
       "<Figure size 432x288 with 1 Axes>"
      ]
     },
     "metadata": {
      "needs_background": "light"
     },
     "output_type": "display_data"
    }
   ],
   "source": [
    "import numpy as np\n",
    "import matplotlib.pyplot as plt\n",
    "from datetime import datetime\n",
    "import matplotlib.dates\n",
    "fig = plt.figure()\n",
    "date_objects = [datetime.strptime(date, '%d/%m/%Y').date() for date in dates]\n",
    "plt.plot(date_objects, positive,'r')\n",
    "plt.plot(date_objects,negative)\n",
    "plt.xlabel(\"Date\")\n",
    "plt.ylabel(\"Cases\")\n",
    "plt.title('Test Cases In Maharashtra')\n",
    "p=fig.legend(labels = ('positve','negative'),loc='upper right',bbox_to_anchor=(1.0, 1.15))\n",
    "plt.show()"
   ]
  },
  {
   "cell_type": "markdown",
   "metadata": {},
   "source": [
    "# <font color=#33F00B>AGE GROUPWISE DISTRIBUTION OF INFECTED PEPOLE </font>"
   ]
  },
  {
   "cell_type": "markdown",
   "metadata": {},
   "source": [
    "##### Here by using matplotlib library is used to visualize the data in diagrametical form"
   ]
  },
  {
   "cell_type": "code",
   "execution_count": 9,
   "metadata": {},
   "outputs": [
    {
     "data": {
      "image/png": "[encoded data removed]",
      "text/plain": [
       "<Figure size 432x288 with 1 Axes>"
      ]
     },
     "metadata": {},
     "output_type": "display_data"
    }
   ],
   "source": [
    "age_data=pd.read_csv('AgeGroupDetails.csv')\n",
    "\n",
    "labels=age_data.AgeGroup.tolist()\n",
    "percentage=age_data.Percentage.tolist()\n",
    "percentage=[float(i) for i in percentage]\n",
    "colors = ['gold', 'red','pink','yellow','blue','orange','#BA4A00','#7D3C98','green','black']\n",
    "explode = (0, 0,0.1,0.2,0.1,0.2,0.1,0,0,0)\n",
    "plt.pie(percentage, explode=explode,labels=labels, colors=colors,autopct='%1.1f%%', shadow=True, startangle=140)\n",
    "          \n",
    "plt.axis('equal')\n",
    "plt.show()"
   ]
  },
  {
   "cell_type": "markdown",
   "metadata": {},
   "source": [
    "# <font color=#5B2C6F>LAB CENTRE IN MAHARASHTRA STATE </font>"
   ]
  },
  {
   "cell_type": "markdown",
   "metadata": {},
   "source": [
    "##### Get address and Lab Name of TestCentre for Covid 19 in India and as per requirement only choose for Maharashtra "
   ]
  },
  {
   "cell_type": "code",
   "execution_count": 10,
   "metadata": {},
   "outputs": [
    {
     "name": "stdout",
     "output_type": "stream",
     "text": [
      "                                                           lab  \\\n",
      "state                                                            \n",
      "Maharashtra               National Institute of Virology, Pune   \n",
      "Maharashtra     Seth GS Medical College & KEM Hospital, Mumbai   \n",
      "Maharashtra  Kasturba Hospital for Infectious Diseases, Mumbai   \n",
      "Maharashtra  National Institute of Virology Field Unit, Mumbai   \n",
      "Maharashtra                 Armed Forces Medical College, Pune   \n",
      "Maharashtra                           BJ Medical College, Pune   \n",
      "Maharashtra  Indira Gandhi Government Medical College & Hos...   \n",
      "Maharashtra    Grant Medical College & Sir JJ Hospital, Mumbai   \n",
      "Maharashtra         Govt Medical College & Hospital Aurangabad   \n",
      "Maharashtra               V. M. Govt. Medical College, Solapur   \n",
      "Maharashtra                         Haffkine Institute, Mumbai   \n",
      "Maharashtra   Shree Bhausaheb Hire Govt Medical College, Dhule   \n",
      "Maharashtra     Government Medical College And Hospital, Miraj   \n",
      "Maharashtra  All India Institute of Medical Sciences (AIIMS...   \n",
      "Maharashtra                  Nagpur Veterinary College, Nagpur   \n",
      "Maharashtra  Advanced Centre for Treatment, Research and Ed...   \n",
      "Maharashtra                       Govt. Medical College, Akola   \n",
      "Maharashtra      National Centre for Cell Science (NCCS), Pune   \n",
      "Maharashtra  ICMR-National Institute for Research in Reprod...   \n",
      "Maharashtra  Rajiv Gandhi Medical College and Chhatrapati S...   \n",
      "Maharashtra        Thyrocare Technologies Limited, Navi Mumbai   \n",
      "Maharashtra     Suburban Diagnostics (India) Pvt. Ltd., Mumbai   \n",
      "Maharashtra                  Metropolis Healthcare Ltd, Mumbai   \n",
      "Maharashtra  Sir H. N. Reliance Foundation Hospital and Res...   \n",
      "Maharashtra                     SRL Diagnostics, Goregaon West   \n",
      "Maharashtra                      A.G Diagnostics Pvt Ltd, Pune   \n",
      "Maharashtra  Kokilaben Dhirubhai Ambani Hospital Laboratory...   \n",
      "Maharashtra             InfeXn Laboratories Private Ltd, Thane   \n",
      "Maharashtra             iGenetic Diagnostics Pvt. Ltd., Mumbai   \n",
      "Maharashtra  Tata Memorial Centre Diagnostic Services, Tata...   \n",
      "Maharashtra                     Sahyadri Speciality Labs, Pune   \n",
      "Maharashtra  Dr. Jariwala Laboratory & Diagnostics LLP, Mumbai   \n",
      "Maharashtra                Metropolis Healthcare Limited, Pune   \n",
      "Maharashtra  Ruby Hall Clinic, Department of Laboratory, Gr...   \n",
      "Maharashtra                      Qualilife Diagnostics, Mumbai   \n",
      "Maharashtra  SRL Diagnostics- Dr. Avinash Phadke (SRL Diagn...   \n",
      "Maharashtra  Sunflower Laboratory And Diagnostic Center, Mu...   \n",
      "Maharashtra  Aditya Birla Memorial Hospital –Laboratory (A ...   \n",
      "Maharashtra  Department of Laboratory Medicine – P.D. Hindu...   \n",
      "\n",
      "                                                       address  pincode  \\\n",
      "state                                                                     \n",
      "Maharashtra  National Institute of Virology, Pune, 130/1, P...   411021   \n",
      "Maharashtra  Seth GS Medical College & KEM Hospital, Achary...   400012   \n",
      "Maharashtra  Kasturba Hospital for Infectious Diseases, San...   400034   \n",
      "Maharashtra  National Institute of Virology Field Unit, Haf...   400012   \n",
      "Maharashtra  Armed Forces Medical College, Southern Command...   411040   \n",
      "Maharashtra  BJ Medical College, Jai Prakash Narayan Road, ...   411001   \n",
      "Maharashtra  Indira Gandhi Government Medical College & Hos...   440018   \n",
      "Maharashtra  Grant Medical College & Sir JJ Hospital, J J M...   400008   \n",
      "Maharashtra  Govt Medical College & Hospital, University Ro...   431004   \n",
      "Maharashtra  V. M. Govt. Medical College, Opp. District Cou...   413003   \n",
      "Maharashtra  Haffkine Institute, Acharya Donde Marg, Parel,...   400012   \n",
      "Maharashtra  Shree Bhausaheb Hire Govt Medical College, Cha...   424001   \n",
      "Maharashtra  Government Medical College And Hospital, Pandh...   416410   \n",
      "Maharashtra  All India Institute of Medical Sciences (AIIMS...   441108   \n",
      "Maharashtra  Department of Veterinary Public Health & Epide...   440006   \n",
      "Maharashtra  Advanced Centre for Treatment, Research and Ed...   410210   \n",
      "Maharashtra  Govt. Medical College, Ashok Vatika, District ...   444001   \n",
      "Maharashtra  National Centre for Cell Science, NCCS Complex...   411007   \n",
      "Maharashtra  ICMR-National Institute for Research in Reprod...   400012   \n",
      "Maharashtra  Rajiv Gandhi Medical College and Chhatrapati S...   400605   \n",
      "Maharashtra  Thyrocare Technologies Limited, D-37/1 MIDC Tu...   400703   \n",
      "Maharashtra  Suburban Diagnostics (India) Pvt. Ltd., 2nd Fl...   400053   \n",
      "Maharashtra  Metropolis Healthcare Ltd, 4th Floor, Commeric...   400070   \n",
      "Maharashtra  Sir H.N. Reliance Foundation Hospital and Rese...   400701   \n",
      "Maharashtra  SRL Diagnostics, Plot No 1, Prime Square build...   400062   \n",
      "Maharashtra  A.G Diagnostics Pvt Ltd, CTS No 809, F.P. 147,...   411004   \n",
      "Maharashtra  Kokilaben Dhirubhai Ambani Hospital Laboratory...   400053   \n",
      "Maharashtra  InfeXn Laboratories Private Ltd, A/131, Therel...   400604   \n",
      "Maharashtra  iGenetic Diagnostics Pvt. Ltd., 1st Floor, kri...   400072   \n",
      "Maharashtra  Tata Memorial Centre Diagnostic Services, Tata...   400012   \n",
      "Maharashtra  Sahyadri Speciality Labs, Plot No. 54, S.No. 8...   411038   \n",
      "Maharashtra  Dr. Jariwala Laboratory & Diagnostics LLP, 1st...   400092   \n",
      "Maharashtra  Construction House, Ground Floor, First Floor ...   411004   \n",
      "Maharashtra  Ruby Hall Clinic, Department of Laboratory, Gr...   411001   \n",
      "Maharashtra  Qualilife Diagnostics, Balaji Arcade, 1st Floo...   400080   \n",
      "Maharashtra  SRL Diagnostics- Dr. Avinash Phadke (SRL Diagn...   400016   \n",
      "Maharashtra  Sunflower Laboratory And Diagnostic Center, Ke...   400064   \n",
      "Maharashtra  Aditya Birla Memorial Hospital –Laboratory (A ...   411033   \n",
      "Maharashtra  Department of Laboratory Medicine – P.D. Hindu...   400016   \n",
      "\n",
      "                    city                   type  \n",
      "state                                            \n",
      "Maharashtra         Pune  Government Laboratory  \n",
      "Maharashtra       Mumbai  Government Laboratory  \n",
      "Maharashtra       Mumbai  Government Laboratory  \n",
      "Maharashtra       Mumbai  Government Laboratory  \n",
      "Maharashtra         Pune  Government Laboratory  \n",
      "Maharashtra         Pune  Government Laboratory  \n",
      "Maharashtra       Nagpur  Government Laboratory  \n",
      "Maharashtra       Mumbai  Government Laboratory  \n",
      "Maharashtra   Aurangabad  Government Laboratory  \n",
      "Maharashtra      Solapur  Government Laboratory  \n",
      "Maharashtra       Mumbai  Government Laboratory  \n",
      "Maharashtra        Dhule  Government Laboratory  \n",
      "Maharashtra        Miraj  Government Laboratory  \n",
      "Maharashtra       Nagpur  Government Laboratory  \n",
      "Maharashtra       Nagpur  Government Laboratory  \n",
      "Maharashtra  Navi Mumbai  Government Laboratory  \n",
      "Maharashtra       Mumbai  Government Laboratory  \n",
      "Maharashtra         Pune  Government Laboratory  \n",
      "Maharashtra       Mumbai  Government Laboratory  \n",
      "Maharashtra        Thane  Government Laboratory  \n",
      "Maharashtra  Navi Mumbai     Private Laboratory  \n",
      "Maharashtra       Mumbai     Private Laboratory  \n",
      "Maharashtra       Mumbai     Private Laboratory  \n",
      "Maharashtra  Navi Mumbai     Private Laboratory  \n",
      "Maharashtra       Mumbai     Private Laboratory  \n",
      "Maharashtra       Mumbai     Private Laboratory  \n",
      "Maharashtra       Mumbai     Private Laboratory  \n",
      "Maharashtra        Thane     Private Laboratory  \n",
      "Maharashtra       Mumbai     Private Laboratory  \n",
      "Maharashtra       Mumbai     Private Laboratory  \n",
      "Maharashtra         Pune     Private Laboratory  \n",
      "Maharashtra       Mumbai     Private Laboratory  \n",
      "Maharashtra         Pune     Private Laboratory  \n",
      "Maharashtra         Pune     Private Laboratory  \n",
      "Maharashtra       Mumbai     Private Laboratory  \n",
      "Maharashtra       Mumbai     Private Laboratory  \n",
      "Maharashtra       Mumbai     Private Laboratory  \n",
      "Maharashtra         Pune     Private Laboratory  \n",
      "Maharashtra       Mumbai     Private Laboratory  \n"
     ]
    }
   ],
   "source": [
    "lab_data=pd.read_csv(\"ICMRTestingLabs.csv\",index_col=\"state\")\n",
    "print(lab_data.loc['Maharashtra'])\n",
    "add_data=lab_data.loc['Maharashtra']\n",
    "\n"
   ]
  },
  {
   "cell_type": "code",
   "execution_count": 11,
   "metadata": {},
   "outputs": [
    {
     "name": "stdout",
     "output_type": "stream",
     "text": [
      "['National Institute of Virology, Pune', 'Seth GS Medical College & KEM Hospital, Mumbai', 'Kasturba Hospital for Infectious Diseases, Mumbai', 'National Institute of Virology Field Unit, Mumbai', 'Armed Forces Medical College, Pune', 'BJ Medical College, Pune', 'Indira Gandhi Government Medical College & Hospital, Nagpur', 'Grant Medical College & Sir JJ Hospital, Mumbai', 'Govt Medical College & Hospital Aurangabad', 'V. M. Govt. Medical College, Solapur', 'Haffkine Institute, Mumbai', 'Shree Bhausaheb Hire Govt Medical College, Dhule', 'Government Medical College And Hospital, Miraj', 'All India Institute of Medical Sciences (AIIMS), Nagpur', 'Nagpur Veterinary College, Nagpur', 'Advanced Centre for Treatment, Research and Education in Cancer (ACTREC), Tata Memorial Centre, Navi Mumbai', 'Govt. Medical College, Akola', 'National Centre for Cell Science (NCCS), Pune', 'ICMR-National Institute for Research in Reproductive Health, Mumbai', 'Rajiv Gandhi Medical College and Chhatrapati Shivaji Maharaj Hospital, Thane', 'Thyrocare Technologies Limited, Navi Mumbai', 'Suburban Diagnostics (India) Pvt. Ltd., Mumbai', 'Metropolis Healthcare Ltd, Mumbai', 'Sir H. N. Reliance Foundation Hospital and Research Center, Mumbai', 'SRL Diagnostics, Goregaon West', 'A.G Diagnostics Pvt Ltd, Pune', 'Kokilaben Dhirubhai Ambani Hospital Laboratory, Mumbai', 'InfeXn Laboratories Private Ltd, Thane', 'iGenetic Diagnostics Pvt. Ltd., Mumbai', 'Tata Memorial Centre Diagnostic Services, Tata Memorial Hospital, Mumbai', 'Sahyadri Speciality Labs, Pune', 'Dr. Jariwala Laboratory & Diagnostics LLP, Mumbai', 'Metropolis Healthcare Limited, Pune', 'Ruby Hall Clinic, Department of Laboratory, Grant Medical Foundation, Pune', 'Qualilife Diagnostics, Mumbai', 'SRL Diagnostics- Dr. Avinash Phadke (SRL Diagnostics Pvt Ltd), Mumbai', 'Sunflower Laboratory And Diagnostic Center, Mumbai', 'Aditya Birla Memorial Hospital –Laboratory (A Unit of Aditya Birla Health Services Ltd.), Pune', 'Department of Laboratory Medicine – P.D. Hinduja National Hospital & Medical Research Centre, Mumbai']\n"
     ]
    }
   ],
   "source": [
    "address=add_data.lab.tolist()\n",
    "print((address))"
   ]
  },
  {
   "cell_type": "markdown",
   "metadata": {},
   "source": [
    "##### Here used geopy and gemaps library of python to get \"CORDINATES OF LOCATION\" from \"ADDRESS\"\n",
    "here create ur own Google api_key on site \"https://www.google.com/search?q=Google+maps+api+home&rlz=1C1OKWM_enIN862IN862&oq=goo&aqs=chrome.0.69i59l3j69i57j0l4.5502j0j8&sourceid=chrome&ie=UTF-8\""
   ]
  },
  {
   "cell_type": "code",
   "execution_count": 12,
   "metadata": {},
   "outputs": [
    {
     "name": "stdout",
     "output_type": "stream",
     "text": [
      "18.545395 73.7886126494831\n",
      "National Institute of Virology, Pune\n",
      "==============================\n",
      "18.502857499999998 73.89337950922894\n",
      "Armed Forces Medical College, Pune\n",
      "==============================\n",
      "21.15405 79.094649\n",
      "Indira Gandhi Government Medical College & Hospital, Nagpur\n",
      "==============================\n",
      "19.890874750000002 75.31838086316155\n",
      "Govt Medical College & Hospital Aurangabad\n",
      "==============================\n",
      "19.0025582 72.84540031223452\n",
      "Haffkine Institute, Mumbai\n",
      "==============================\n",
      "[(18.545395, 73.7886126494831), (18.502857499999998, 73.89337950922894), (21.15405, 79.094649), (19.890874750000002, 75.31838086316155), (19.0025582, 72.84540031223452)]\n"
     ]
    }
   ],
   "source": [
    "from  geopy.geocoders import Nominatim\n",
    "import gmaps\n",
    "gmaps.configure(api_key='API KEY...')\n",
    "geolocator = Nominatim(user_agent=\"my-application\")\n",
    "cordinates=[]\n",
    "for lab in address:\n",
    "    loc = geolocator.geocode(lab,timeout=20)\n",
    "    #lat=geolocator.geocode(lab).latitude\n",
    "    #lon=geolocator.geocode(lab).longitude\n",
    "    try:\n",
    "        lat=geolocator.geocode(lab).latitude\n",
    "        lon=geolocator.geocode(lab).longitude\n",
    "        n=lab\n",
    "    except:\n",
    "        continue\n",
    "       \n",
    "    print(lat,lon)\n",
    "    print(f\"{n}\\n==============================\")\n",
    "    ls=(lat,lon)\n",
    "    cordinates.append(ls)   \n",
    "print(cordinates)\n"
   ]
  },
  {
   "cell_type": "markdown",
   "metadata": {},
   "source": [
    "##### Here show \"CORDINATES\" get from \"ADDRESS\" on\"GOOGLE MAP\" "
   ]
  },
  {
   "cell_type": "code",
   "execution_count": 13,
   "metadata": {},
   "outputs": [
    {
     "data": {
      "application/vnd.jupyter.widget-view+json": {
       "model_id": "b82b873e6e974ff79c9c670369f835f8",
       "version_major": 2,
       "version_minor": 0
      },
      "text/plain": [
       "Figure(layout=FigureLayout(height='420px'))"
      ]
     },
     "metadata": {},
     "output_type": "display_data"
    }
   ],
   "source": [
    "import gmaps\n",
    "gmaps.configure(api_key='API KEY...')\n",
    "\n",
    "fig = gmaps.figure()\n",
    "markers = gmaps.marker_layer(cordinates)\n",
    "fig.add_layer(markers)\n",
    "fig"
   ]
  },
  {
   "cell_type": "code",
   "execution_count": null,
   "metadata": {},
   "outputs": [],
   "source": []
  }
 ],
 "metadata": {
  "kernelspec": {
   "display_name": "Python 3",
   "language": "python",
   "name": "python3"
  },
  "language_info": {
   "codemirror_mode": {
    "name": "ipython",
    "version": 3
   },
   "file_extension": ".py",
   "mimetype": "text/x-python",
   "name": "python",
   "nbconvert_exporter": "python",
   "pygments_lexer": "ipython3",
   "version": "3.7.6"
  }
 },
 "nbformat": 4,
 "nbformat_minor": 4
}
